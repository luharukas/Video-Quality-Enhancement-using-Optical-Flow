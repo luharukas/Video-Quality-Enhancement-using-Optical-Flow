{
 "cells": [
  {
   "cell_type": "code",
   "execution_count": 1,
   "id": "419244dc",
   "metadata": {},
   "outputs": [],
   "source": [
    "import cv2"
   ]
  },
  {
   "cell_type": "code",
   "execution_count": 2,
   "id": "6fa9fc44",
   "metadata": {},
   "outputs": [],
   "source": [
    "img=cv2.imread(r\"C:\\Users\\luhar\\Downloads\\DAVIS\\JPEGImages\\480p\\tractor\\00062.jpg\")"
   ]
  },
  {
   "cell_type": "code",
   "execution_count": 3,
   "id": "687d1e55",
   "metadata": {},
   "outputs": [
    {
     "data": {
      "text/plain": [
       "(480, 854, 3)"
      ]
     },
     "execution_count": 3,
     "metadata": {},
     "output_type": "execute_result"
    }
   ],
   "source": [
    "img.shape"
   ]
  },
  {
   "cell_type": "code",
   "execution_count": 7,
   "id": "33dc42cc",
   "metadata": {},
   "outputs": [],
   "source": [
    "img=cv2.resize(img,(278,240))"
   ]
  },
  {
   "cell_type": "code",
   "execution_count": 8,
   "id": "006c753b",
   "metadata": {},
   "outputs": [
    {
     "data": {
      "text/plain": [
       "(240, 278, 3)"
      ]
     },
     "execution_count": 8,
     "metadata": {},
     "output_type": "execute_result"
    }
   ],
   "source": [
    "img.shape"
   ]
  }
 ],
 "metadata": {
  "kernelspec": {
   "display_name": "Python 3",
   "language": "python",
   "name": "python3"
  },
  "language_info": {
   "codemirror_mode": {
    "name": "ipython",
    "version": 3
   },
   "file_extension": ".py",
   "mimetype": "text/x-python",
   "name": "python",
   "nbconvert_exporter": "python",
   "pygments_lexer": "ipython3",
   "version": "3.8.5"
  }
 },
 "nbformat": 4,
 "nbformat_minor": 5
}
